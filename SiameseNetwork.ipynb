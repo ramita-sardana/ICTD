{
  "cells": [
    {
      "cell_type": "markdown",
      "metadata": {
        "id": "PJ1mM_15afgC"
      },
      "source": [
        "# SIL 761 Project: Siamese Networks for deforestation detection"
      ]
    },
    {
      "cell_type": "code",
      "source": [
        "from google.colab import drive\n",
        "drive.mount('/content/drive')"
      ],
      "metadata": {
        "colab": {
          "base_uri": "https://localhost:8080/"
        },
        "id": "iDLNohKWRqbQ",
        "outputId": "87b6bbe2-e62e-4931-f8eb-21196e8af52f"
      },
      "execution_count": null,
      "outputs": [
        {
          "output_type": "stream",
          "name": "stdout",
          "text": [
            "Drive already mounted at /content/drive; to attempt to forcibly remount, call drive.mount(\"/content/drive\", force_remount=True).\n"
          ]
        }
      ]
    },
    {
      "cell_type": "code",
      "execution_count": null,
      "metadata": {
        "id": "OFLiEonUv5cv"
      },
      "outputs": [],
      "source": [
        "%matplotlib inline\n",
        "import matplotlib.pyplot as plt\n",
        "import numpy as np\n",
        "import random\n",
        "from PIL import Image\n",
        "import PIL.ImageOps  \n",
        "import os  \n",
        "\n",
        "import torchvision\n",
        "import torchvision.datasets as datasets\n",
        "import torchvision.transforms as transforms\n",
        "from torch.utils.data import DataLoader, Dataset\n",
        "import torchvision.utils\n",
        "import torch\n",
        "from torch.autograd import Variable\n",
        "import torch.nn as nn\n",
        "from torch import optim\n",
        "import torch.nn.functional as F\n",
        "\n",
        "# from ray import tune\n",
        "# from ray.tune import CLIReporter\n",
        "# from ray.tune.schedulers import ASHAScheduler"
      ]
    },
    {
      "cell_type": "code",
      "source": [
        "class SiameseNetworkDataset(Dataset):\n",
        "    def __init__(self, npDataset2019, npDataset2020, labels):\n",
        "        self.np19 = npDataset2019.astype(np.float32)\n",
        "        self.np20 = npDataset2020.astype(np.float32)\n",
        "        self.labels = np.hstack((labels, 1-labels)).astype(np.float32)\n",
        "        \n",
        "\n",
        "\n",
        "    def __getitem__(self,index):\n",
        "        \n",
        "        return torch.from_numpy(self.np19[index]), torch.from_numpy(self.np20[index]), torch.from_numpy(self.labels[index])\n",
        "    \n",
        "    def __len__(self):\n",
        "        return (self.labels.shape[0])"
      ],
      "metadata": {
        "id": "6ZNFu3FrkvoX"
      },
      "execution_count": null,
      "outputs": []
    },
    {
      "cell_type": "markdown",
      "source": [
        "Importing data"
      ],
      "metadata": {
        "id": "LGmn0WytXfew"
      }
    },
    {
      "cell_type": "code",
      "source": [
        "folder_path = \"/content/drive/MyDrive/\""
      ],
      "metadata": {
        "id": "nxNP2HQTX-B8"
      },
      "execution_count": null,
      "outputs": []
    },
    {
      "cell_type": "code",
      "source": [
        "from os import replace\n",
        "from unittest.mock import patch\n",
        "from osgeo import gdal\n",
        "import numpy as np\n",
        "import pickle\n",
        "from random import sample\n",
        "import sys\n",
        "\n",
        "def get_array(filename):\n",
        "    ds = gdal.Open(filename)\n",
        "    img_array = np.zeros((ds.RasterCount, ds.RasterYSize, ds.RasterXSize))\n",
        "\n",
        "    for i in range(ds.RasterCount):\n",
        "        img_array[i,:,:] = np.array(ds.GetRasterBand(i+1).ReadAsArray())/ (20000 if i < 7 else 1) \n",
        "    # print(img_array.shape)\n",
        "    return img_array"
      ],
      "metadata": {
        "id": "gDeddQWq5aaJ"
      },
      "execution_count": null,
      "outputs": []
    },
    {
      "cell_type": "code",
      "source": [
        "\n",
        "\n",
        "def make_patches(arr_2019, arr_2020, arr_deforestation, size=15, stride=3, threshhold = 0.5, sampling=False):\n",
        "    #initialize constants and arrays\n",
        "    bands, ysize, xsize = arr_2019.shape[0], arr_2019.shape[1], arr_2019.shape[2]\n",
        "    ypatches = int((ysize-size+stride)//stride)\n",
        "    xpatches = int((xsize-size+stride)//stride)\n",
        "    patches_2019 = np.zeros((xpatches*ypatches, bands, size, size))\n",
        "    patches_2020 = np.zeros((xpatches*ypatches, bands, size, size))\n",
        "    labels = np.zeros((xpatches*ypatches, 1))\n",
        "    nan_mask = np.ones(xpatches*ypatches, dtype=bool)\n",
        "    #read data\n",
        "    for i in range(0, ysize-size+1, stride):\n",
        "        for j in range(0, xsize-size+1, stride):\n",
        "            patches_2019[(i*xpatches+j)//stride] = arr_2019[:, i:i+size, j:j+size]\n",
        "            patches_2020[(i*xpatches+j)//stride] = arr_2020[:, i:i+size, j:j+size]\n",
        "            labels[(i*xpatches+j)//stride, 0] = 1 if (np.count_nonzero(arr_deforestation[0, i:i+size, j:j+size])/size**2) > threshhold else 0\n",
        "            nan_mask[(i*xpatches+j)//stride] = not (np.any(np.isnan(arr_2019[:, i:i+size, j:j+size])) or \\\n",
        "                                                np.any(np.isnan(arr_2020[:, i:i+size, j:j+size])))\n",
        "   \n",
        "    patches_2019 = patches_2019[nan_mask]\n",
        "    patches_2020 = patches_2020[nan_mask]\n",
        "    labels = labels[nan_mask]\n",
        "    #augment, downsample for train\n",
        "    if sampling:\n",
        "        true_indices = np.nonzero(labels)[0]\n",
        "        false_indices = np.nonzero(1-labels)[0]\n",
        "\n",
        "        patches_2019_true = patches_2019[true_indices, :, :, :]\n",
        "        patches_2019_true = np.vstack((patches_2019_true, \n",
        "                                        patches_2019_true[:, :, ::-1, :], \n",
        "                                        patches_2019_true[:, :, :, ::-1],\n",
        "                                        patches_2019_true[:, :, ::-1, ::-1]))\n",
        "        patches_2019_false = patches_2019[false_indices, :, :, :]\n",
        "        if 5*patches_2019_true.shape[0] > patches_2019_false.shape[0]:\n",
        "            random_undersample = np.arange(patches_2019_false.shape[0])\n",
        "        else:\n",
        "            random_undersample = np.random.choice(patches_2019_false.shape[0], 5*patches_2019_true.shape[0], replace=False)\n",
        "        patches_2019_false = patches_2019_false[random_undersample, :, :, :]\n",
        "        patches_2019 = np.vstack((patches_2019_true, patches_2019_false))\n",
        "\n",
        "        patches_2020_true = patches_2020[true_indices, :, :, :]\n",
        "        patches_2020_true = np.vstack((patches_2020_true, \n",
        "                                        patches_2020_true[:, :, ::-1, :], \n",
        "                                        patches_2020_true[:, :, :, ::-1],\n",
        "                                        patches_2020_true[:, :, ::-1, ::-1]))\n",
        "        patches_2020_false = patches_2020[false_indices, :, :, :]\n",
        "        patches_2020_false = patches_2020_false[random_undersample, :, :, :]\n",
        "        patches_2020 = np.vstack((patches_2020_true, patches_2020_false))\n",
        "\n",
        "        labels = np.vstack((np.ones((patches_2020_true.shape[0], 1)), \n",
        "                            np.zeros((patches_2020_false.shape[0], 1))))\n",
        "    else:\n",
        "        #possible downsample for test, val\n",
        "        pass\n",
        "\n",
        "    return patches_2019, patches_2020, labels\n",
        "\n",
        "def create_set_from_list(tiles, train=False, path=folder_path):\n",
        "    ret = [[], [], []]\n",
        "    for i in tiles:\n",
        "        y = int(300*(i//6))\n",
        "        x = int(300*(i%6))\n",
        "        arr_2019 = get_array(path + f\"tiles/tile_2019_{x}_{y}.tif\")\n",
        "        arr_2020 = get_array(path + f\"tiles/tile_2020_{x}_{y}.tif\")\n",
        "        arr_deforestation = get_array(path + f\"tiles/deforestation_{x}_{y}.tif\")\n",
        "        patches_2019, patches_2020, labels = make_patches(arr_2019, arr_2020, arr_deforestation, sampling=train)\n",
        "        # if (np.count_nonzero(np.))\n",
        "        ret[0].append(patches_2019)\n",
        "        ret[1].append(patches_2020)\n",
        "        ret[2].append(labels)\n",
        "    \n",
        "    ret[0] = np.vstack(ret[0])\n",
        "    ret[1] = np.vstack(ret[1])\n",
        "    ret[2] = np.vstack(ret[2])\n",
        "    \n",
        "    perm = np.random.permutation(ret[0].shape[0])\n",
        "    ret[0] = ret[0][perm]\n",
        "    ret[1] = ret[1][perm]\n",
        "    ret[2] = ret[2][perm]\n",
        "    return ret\n",
        "\n",
        "\n",
        "def create_train_test_split():\n",
        "\n",
        "    all = [i for i in range(24)]\n",
        "    train = sample(all, 10)\n",
        "    all = [i for i in all if i not in train]\n",
        "    val = sample(all, 1)\n",
        "    # all = [i for i in all if i not in val]\n",
        "    # test = sample(all, 5)\n",
        "\n",
        "    #return train, val and test tuples containing (2019_patches, 2020_patches, labels)\n",
        "    return create_set_from_list(train, True), create_set_from_list(val), [] # create_set_from_list(test)\n",
        "\n",
        "train, val, test = create_train_test_split()\n",
        "with open('data.pkl', 'wb') as f:\n",
        "    pickle.dump({\"train\":train, \"val\":val, \"test\":test}, f)"
      ],
      "metadata": {
        "id": "G7oeXmjzX09w"
      },
      "execution_count": null,
      "outputs": []
    },
    {
      "cell_type": "code",
      "source": [
        "import pickle\n",
        "with open(\"data.pkl\", 'rb') as f:\n",
        "  dic = pickle.load(f)\n"
      ],
      "metadata": {
        "id": "0TpEl4jQXfKM"
      },
      "execution_count": null,
      "outputs": []
    },
    {
      "cell_type": "code",
      "source": [
        "dic.keys()"
      ],
      "metadata": {
        "colab": {
          "base_uri": "https://localhost:8080/"
        },
        "id": "8R785YIyd4Z7",
        "outputId": "a5feaa04-3a31-4360-bc10-42283f60d8ea"
      },
      "execution_count": null,
      "outputs": [
        {
          "output_type": "execute_result",
          "data": {
            "text/plain": [
              "dict_keys(['train', 'val', 'test'])"
            ]
          },
          "metadata": {},
          "execution_count": 8
        }
      ]
    },
    {
      "cell_type": "code",
      "source": [
        "dic['train'][0].shape, dic['train'][1].shape, dic['train'][2].shape"
      ],
      "metadata": {
        "colab": {
          "base_uri": "https://localhost:8080/"
        },
        "id": "Slxj-L2kgPzi",
        "outputId": "3a4488ec-5c74-404e-9d78-a9efd3c62935"
      },
      "execution_count": null,
      "outputs": [
        {
          "output_type": "execute_result",
          "data": {
            "text/plain": [
              "((52458, 11, 15, 15), (52458, 11, 15, 15), (52458, 1))"
            ]
          },
          "metadata": {},
          "execution_count": 9
        }
      ]
    },
    {
      "cell_type": "code",
      "source": [
        "np.count_nonzero(np.isnan(dic['train'][0])), np.count_nonzero(np.isnan(dic['train'][1])), np.count_nonzero(np.isnan(dic['train'][2]))"
      ],
      "metadata": {
        "colab": {
          "base_uri": "https://localhost:8080/"
        },
        "id": "D7Jx_82MAPD2",
        "outputId": "dda41864-4d81-4471-ba38-2bdd1eaf088d"
      },
      "execution_count": null,
      "outputs": [
        {
          "output_type": "execute_result",
          "data": {
            "text/plain": [
              "(0, 0, 0)"
            ]
          },
          "metadata": {},
          "execution_count": 10
        }
      ]
    },
    {
      "cell_type": "code",
      "source": [
        "np.max(dic['train'][0]), np.max(dic['train'][1]), np.max(dic['train'][2])"
      ],
      "metadata": {
        "colab": {
          "base_uri": "https://localhost:8080/"
        },
        "id": "NnXbIUR8_rsG",
        "outputId": "d1791cd9-4883-4629-d093-a02dd65b457e"
      },
      "execution_count": null,
      "outputs": [
        {
          "output_type": "execute_result",
          "data": {
            "text/plain": [
              "(0.9517286366601435, 0.9979354838709678, 1.0)"
            ]
          },
          "metadata": {},
          "execution_count": 11
        }
      ]
    },
    {
      "cell_type": "code",
      "source": [
        "np.min(dic['train'][0]), np.min(dic['train'][1]), np.min(dic['train'][2])"
      ],
      "metadata": {
        "colab": {
          "base_uri": "https://localhost:8080/"
        },
        "id": "BsTk94rEFOng",
        "outputId": "e554fdbf-d55d-4773-d726-430d81deee4d"
      },
      "execution_count": null,
      "outputs": [
        {
          "output_type": "execute_result",
          "data": {
            "text/plain": [
              "(-0.7277179236043095, -0.9067750677506775, 0.0)"
            ]
          },
          "metadata": {},
          "execution_count": 12
        }
      ]
    },
    {
      "cell_type": "code",
      "execution_count": null,
      "metadata": {
        "id": "_qzYA7F10Cnk"
      },
      "outputs": [],
      "source": [
        "# # Resize the images and transform to tensors\n",
        "# transformation = transforms.Compose([transforms.Resize((100,100)),\n",
        "#                                      transforms.ToTensor()\n",
        "#                                     ])\n",
        "\n",
        "# Initialize the network\n",
        "siamese_dataset = SiameseNetworkDataset(dic['train'][0], dic['train'][1], dic['train'][2])\n",
        "val_dataset = SiameseNetworkDataset(dic['val'][0], dic['val'][1], dic['val'][2])\n",
        "# test_dataset = SiameseNetworkDataset(dic['test'][0], dic['test'][1], dic['test'][2])"
      ]
    },
    {
      "cell_type": "code",
      "source": [
        "from random import randint\n",
        "from PIL import Image\n",
        "x = np.random.choice(np.nonzero(1-dic['train'][2])[0])\n",
        "\n",
        "fig, ax = plt.subplots(1,2)\n",
        "ax[0].imshow(Image.fromarray(np.rollaxis((dic['train'][0][x, [4, 3, 2], :, :]*2*255).astype(np.uint8), 0,3)).resize((100,100)))\n",
        "ax[1].imshow(Image.fromarray(np.rollaxis((dic['train'][1][x, [4, 3, 2], :, :]*2*255).astype(np.uint8), 0,3)).resize((100,100)))\n"
      ],
      "metadata": {
        "colab": {
          "base_uri": "https://localhost:8080/",
          "height": 220
        },
        "id": "m8fFXXzVcGFk",
        "outputId": "c780c3f6-3c0f-41aa-9f75-364cf1a56f0e"
      },
      "execution_count": null,
      "outputs": [
        {
          "output_type": "execute_result",
          "data": {
            "text/plain": [
              "<matplotlib.image.AxesImage at 0x7f3f9cde2210>"
            ]
          },
          "metadata": {},
          "execution_count": 14
        },
        {
          "output_type": "display_data",
          "data": {
            "text/plain": [
              "<Figure size 432x288 with 2 Axes>"
            ],
            "image/png": "[encoded data removed]"
          },
          "metadata": {
            "needs_background": "light"
          }
        }
      ]
    },
    {
      "cell_type": "code",
      "execution_count": null,
      "metadata": {
        "id": "hgVfwTo81PqA"
      },
      "outputs": [],
      "source": [
        "#create the Siamese Neural Network\n",
        "class SiameseNetwork(nn.Module):\n",
        "\n",
        "    def __init__(self):\n",
        "        super(SiameseNetwork, self).__init__()\n",
        "\n",
        "        # Setting up the Sequential of CNN Layers\n",
        "        self.cnn1 = nn.Sequential(\n",
        "            nn.Conv2d(11, 128, kernel_size=3,stride=1,padding='same'),\n",
        "            nn.ReLU(inplace=True),\n",
        "            nn.MaxPool2d(2, stride=2),\n",
        "            \n",
        "            nn.Conv2d(128, 256, kernel_size=3, stride=1, padding='same'),\n",
        "            nn.ReLU(inplace=True),\n",
        "            nn.MaxPool2d(2, stride=2),\n",
        "\n",
        "            nn.Conv2d(256, 512, kernel_size=3,stride=1, padding='same'),\n",
        "            nn.ReLU(inplace=True)\n",
        "        )\n",
        "\n",
        "\n",
        "        # Setting up the Fully Connected Layers\n",
        "        self.fc2 = nn.Sequential(\n",
        "            nn.Dropout(p=0.2),\n",
        "            # nn.ReLU(inplace=True),\n",
        "            \n",
        "            # nn.Linear(4096, 1024),\n",
        "            # nn.ReLU(inplace=True),\n",
        "\n",
        "            # nn.Linear(1024, 256),\n",
        "            # nn.ReLU(inplace=True),\n",
        "            \n",
        "            nn.Linear(9216,2),\n",
        "            nn.Softmax()\n",
        "        )\n",
        "        \n",
        "    def forward(self, input1, input2):\n",
        "        # This function will be called for both images\n",
        "        # It's output is used to determine the similiarity\n",
        "        output1 = self.cnn1(input1)\n",
        "        output1 = output1.view(output1.size()[0], -1)\n",
        "\n",
        "        \n",
        "        output2 = self.cnn1(input2)\n",
        "        output2 = output2.view(output2.size()[0], -1)\n",
        "        # print(output1.size(), output2.size())\n",
        "\n",
        "        output3 = torch.cat((output1, output2), dim=1)\n",
        "\n",
        "        \n",
        "        # print(output.size())\n",
        "        output = self.fc2(output3)\n",
        "        return output\n",
        "\n",
        "    # def forward(self, input1, input2):\n",
        "    #     # In this function we pass in both images and obtain both vectors\n",
        "    #     # which are returned\n",
        "    #     output1 = self.forward_once(input1)\n",
        "    #     output2 = self.forward_once(input2)\n",
        "\n",
        "    #     return output1, output2"
      ]
    },
    {
      "cell_type": "code",
      "execution_count": null,
      "metadata": {
        "id": "lWRvoW8X2Cm5"
      },
      "outputs": [],
      "source": [
        "# Load the training dataset\n",
        "train_dataloader = DataLoader(siamese_dataset,\n",
        "                        shuffle=True,\n",
        "                        num_workers=2,\n",
        "                        batch_size=64)\n",
        "\n",
        "val_dataloader = DataLoader(val_dataset,\n",
        "                        shuffle=True,\n",
        "                        num_workers=2,\n",
        "                        batch_size=64)\n"
      ]
    },
    {
      "cell_type": "code",
      "execution_count": null,
      "metadata": {
        "id": "bvNMkG8E2FEm"
      },
      "outputs": [],
      "source": [
        "net = SiameseNetwork().cuda()\n",
        "criterion = nn.BCELoss()\n",
        "optimizer = optim.Adam(net.parameters(), weight_decay=0, lr = 1e-4)"
      ]
    },
    {
      "cell_type": "code",
      "source": [
        "def compute_loss(dataloader):\n",
        "    net.eval()\n",
        "    total_loss = 0\n",
        "    with torch.no_grad():\n",
        "        for data in dataloader:\n",
        "            x0, x1, labels = data\n",
        "            outputs = (net(x0.cuda(), x1.cuda())).cpu()\n",
        "            loss = criterion(outputs, labels)\n",
        "            total_loss += loss.item()\n",
        "    return total_loss/len(dataloader)"
      ],
      "metadata": {
        "id": "j3dRhe6NTNFi"
      },
      "execution_count": null,
      "outputs": []
    },
    {
      "cell_type": "code",
      "execution_count": null,
      "metadata": {
        "id": "9JaZWc1Nz07m"
      },
      "outputs": [],
      "source": [
        "def show_plot(iteration,loss, val_loss):\n",
        "    plt.plot(iteration,loss, label='Training Loss')\n",
        "    plt.plot(iteration,val_loss, label='Validation Loss')\n",
        "    plt.xlabel(\"Epoch\")\n",
        "    plt.ylabel(\"BCELoss\")\n",
        "    plt.title(\"Training error over the epochs\")\n",
        "    plt.legend()\n",
        "    plt.show()"
      ]
    },
    {
      "cell_type": "code",
      "execution_count": null,
      "metadata": {
        "id": "U7bz8o__2JKn",
        "colab": {
          "base_uri": "https://localhost:8080/",
          "height": 1000
        },
        "outputId": "b015dbfe-ca14-42b2-8ec9-6a2bacb81c5d"
      },
      "outputs": [
        {
          "output_type": "stream",
          "name": "stderr",
          "text": [
            "/usr/local/lib/python3.7/dist-packages/torch/nn/modules/container.py:141: UserWarning: Implicit dimension choice for softmax has been deprecated. Change the call to include dim=X as an argument.\n",
            "  input = module(input)\n"
          ]
        },
        {
          "output_type": "stream",
          "name": "stdout",
          "text": [
            "Epoch number 0\n",
            "Training Loss 0.670659405211123\n",
            "Validation Loss 0.6488556547297372\n",
            "\n",
            "Epoch number 1\n",
            "Training Loss 0.16181124014461912\n",
            "Validation Loss 0.09710330748930573\n",
            "\n",
            "Epoch number 2\n",
            "Training Loss 0.15329712321981787\n",
            "Validation Loss 0.06840635231411499\n",
            "\n",
            "Epoch number 3\n",
            "Training Loss 0.1374268001808626\n",
            "Validation Loss 0.06538311461271304\n",
            "\n",
            "Epoch number 4\n",
            "Training Loss 0.13011497861546714\n",
            "Validation Loss 0.08408152346964926\n",
            "\n",
            "Epoch number 5\n",
            "Training Loss 0.12213342605249547\n",
            "Validation Loss 0.07202151640214854\n",
            "\n",
            "Epoch number 6\n",
            "Training Loss 0.11934617007173962\n",
            "Validation Loss 0.08348628748596336\n",
            "\n",
            "Epoch number 7\n",
            "Training Loss 0.11496889313864635\n",
            "Validation Loss 0.05345302994181919\n",
            "\n",
            "Epoch number 8\n",
            "Training Loss 0.11992329620506342\n",
            "Validation Loss 0.06957526633697045\n",
            "\n",
            "Epoch number 9\n",
            "Training Loss 0.11657512353892188\n",
            "Validation Loss 0.0938694621824349\n",
            "\n",
            "Epoch number 10\n",
            "Training Loss 0.09162847620503205\n",
            "Validation Loss 0.07117211127964158\n",
            "\n",
            "Epoch number 11\n",
            "Training Loss 0.08703403352850639\n",
            "Validation Loss 0.07159570989380074\n",
            "\n",
            "Epoch number 12\n",
            "Training Loss 0.08746308925130018\n",
            "Validation Loss 0.050113794067227796\n",
            "\n",
            "Epoch number 13\n",
            "Training Loss 0.10065029159347277\n",
            "Validation Loss 0.07298621302147189\n",
            "\n",
            "Epoch number 14\n",
            "Training Loss 0.07246769087320966\n",
            "Validation Loss 0.059410821966594085\n",
            "\n"
          ]
        },
        {
          "output_type": "display_data",
          "data": {
            "text/plain": [
              "<Figure size 432x288 with 1 Axes>"
            ],
            "image/png": "[encoded data removed]"
          },
          "metadata": {
            "needs_background": "light"
          }
        }
      ],
      "source": [
        "counter = []\n",
        "loss_history = []\n",
        "val_loss_history = []\n",
        "iteration_number= 0\n",
        "\n",
        "# Iterate throught the epochs\n",
        "for epoch in range(15):\n",
        "\n",
        "    # Iterate over batches\n",
        "    for i, (img0, img1, label) in enumerate(train_dataloader, 0):\n",
        "\n",
        "        # Send the images and labels to CUDA\n",
        "        img0, img1, label = img0.cuda(), img1.cuda(), label.cuda()\n",
        "\n",
        "        # Zero the gradients\n",
        "        optimizer.zero_grad()\n",
        "\n",
        "        # Pass in the two images into the network and obtain two outputs\n",
        "        output = net(img0, img1)\n",
        "        # print(output>0.5)\n",
        "\n",
        "        # Pass the outputs of the networks and label into the loss function\n",
        "        loss_contrastive = criterion(output, label)\n",
        "\n",
        "        # Calculate the backpropagation\n",
        "        loss_contrastive.backward()\n",
        "\n",
        "        # Optimize\n",
        "        optimizer.step()\n",
        "\n",
        "        # Every 500 batches print out the loss\n",
        "        if i % len(train_dataloader) == 0 :\n",
        "            print(f\"Epoch number {epoch}\")\n",
        "            training_loss = compute_loss(train_dataloader)\n",
        "            print(f\"Training Loss {training_loss}\")\n",
        "            loss_history.append(training_loss)\n",
        "\n",
        "            iteration_number += 500\n",
        "\n",
        "            counter.append(epoch)\n",
        "            # loss_history.append(loss_contrastive.item())\n",
        "            validation_loss = compute_loss(val_dataloader)\n",
        "            print(f\"Validation Loss {validation_loss}\\n\")\n",
        "            val_loss_history.append(validation_loss)\n",
        "    # # Validation loss\n",
        "    # val_loss = 0.0\n",
        "    # val_steps = 0\n",
        "    # total = 0\n",
        "    # correct = 0\n",
        "    # for i, data in enumerate(val_dataloader, 0):\n",
        "    #     with torch.no_grad():\n",
        "    #         input0, input1, labels = data\n",
        "    #         input0, input1, labels = input0.cuda(), input1.cuda(), labels.cuda()\n",
        "\n",
        "    #         outputs = net(input0, input1)\n",
        "    #         predicted = outputs>0.5\n",
        "    #         total += labels.size(0)\n",
        "    #         correct += (predicted == labels).sum().item()\n",
        "\n",
        "    #         loss = criterion(outputs, labels)\n",
        "    #         val_loss += loss.cpu().numpy()\n",
        "    #         val_steps += 1\n",
        "\n",
        "    # with tune.checkpoint_dir(epoch) as checkpoint_dir:\n",
        "    #     path = os.path.join(checkpoint_dir, \"checkpoint\")\n",
        "    #     torch.save((net.state_dict(), optimizer.state_dict()), path)\n",
        "\n",
        "    # tune.report(loss=(val_loss / val_steps), accuracy=correct / total)\n",
        "\n",
        "show_plot(counter, loss_history, val_loss_history)"
      ]
    },
    {
      "cell_type": "code",
      "source": [
        "def evaluate(dataloader):\n",
        "    net.eval()\n",
        "    tp = tn = fp = fn = 0\n",
        "    with torch.no_grad():\n",
        "        for data in dataloader:\n",
        "            x0, x1, labels = data\n",
        "            outputs = (net(x0.cuda(), x1.cuda())).cpu()\n",
        "            pred = outputs[:, 0].numpy() > 0.5\n",
        "            true = labels[:, 0].numpy() > 0.5\n",
        "            tp += np.count_nonzero(pred*true)\n",
        "            fn += np.count_nonzero((1-1*pred)*true)\n",
        "            fp += np.count_nonzero(pred*(1-true))\n",
        "            tn += np.count_nonzero((1-1*pred)*(1-true))\n",
        "    precision = (tp)/(tp+fp)\n",
        "    recall = tp/(tp+fn)\n",
        "    print(f\"Accuracy: {(tp+tn)/(tp+tn+fp+fn)}\")\n",
        "    print(f\"Precision: {precision}\")\n",
        "    print(f\"Recall: {recall}\")\n",
        "    print(f\"F1-Score: {(2*precision*recall)/(precision+recall)}\")\n",
        "    return tp, tn, fp, fn"
      ],
      "metadata": {
        "id": "2kP1M-ftfTq1"
      },
      "execution_count": null,
      "outputs": []
    },
    {
      "cell_type": "code",
      "source": [
        "evaluate(train_dataloader)"
      ],
      "metadata": {
        "colab": {
          "base_uri": "https://localhost:8080/"
        },
        "id": "lzO4rCkyhnPd",
        "outputId": "a05750dd-4479-4217-dc88-9ef4f7f873f7"
      },
      "execution_count": null,
      "outputs": [
        {
          "output_type": "stream",
          "name": "stderr",
          "text": [
            "/usr/local/lib/python3.7/dist-packages/torch/nn/modules/container.py:141: UserWarning: Implicit dimension choice for softmax has been deprecated. Change the call to include dim=X as an argument.\n",
            "  input = module(input)\n"
          ]
        },
        {
          "output_type": "stream",
          "name": "stdout",
          "text": [
            "Accuracy: 0.9727800829875519\n",
            "Precision: 0.9398262128892108\n",
            "Recall: 0.9302608944954128\n",
            "F1-Score: 0.9350190908435991\n"
          ]
        },
        {
          "output_type": "execute_result",
          "data": {
            "text/plain": [
              "(12979, 51492, 831, 973)"
            ]
          },
          "metadata": {},
          "execution_count": 22
        }
      ]
    },
    {
      "cell_type": "code",
      "source": [
        "evaluate(val_dataloader)"
      ],
      "metadata": {
        "colab": {
          "base_uri": "https://localhost:8080/"
        },
        "id": "GumW0GMYiCvA",
        "outputId": "53dd021e-892a-481a-a3ee-128a17dbc706"
      },
      "execution_count": null,
      "outputs": [
        {
          "output_type": "stream",
          "name": "stderr",
          "text": [
            "/usr/local/lib/python3.7/dist-packages/torch/nn/modules/container.py:141: UserWarning: Implicit dimension choice for softmax has been deprecated. Change the call to include dim=X as an argument.\n",
            "  input = module(input)\n"
          ]
        },
        {
          "output_type": "stream",
          "name": "stdout",
          "text": [
            "Accuracy: 0.9728907480849677\n",
            "Precision: 0.4593908629441624\n",
            "Recall: 0.832183908045977\n",
            "F1-Score: 0.5919869174161897\n"
          ]
        },
        {
          "output_type": "execute_result",
          "data": {
            "text/plain": [
              "(362, 17546, 426, 73)"
            ]
          },
          "metadata": {},
          "execution_count": 23
        }
      ]
    },
    {
      "cell_type": "code",
      "source": [
        "def make_pred(dataloader):\n",
        "    net.eval()\n",
        "    preds = []\n",
        "    with torch.no_grad():\n",
        "        for data in dataloader:\n",
        "            x0, x1, labels = data\n",
        "            outputs = (net(x0.cuda(), x1.cuda())).cpu()\n",
        "            pred = outputs[:, 0].numpy() > 0.5\n",
        "            preds.extend(pred.tolist())\n",
        "    return preds\n",
        "\n",
        "\n",
        "def make_dataloader(past, current):\n",
        "    dataset = SiameseNetworkDataset(past, current, np.zeros((past.shape[0], 2)))\n",
        "    dataloader = DataLoader(dataset,\n",
        "                            shuffle=False,\n",
        "                            num_workers=2,\n",
        "                            batch_size=64)\n",
        "    return dataloader\n",
        "\n",
        "\n",
        "def make_patches_test(arr_2019, arr_2020, arr_deforestation, size=15, stride=3):\n",
        "    #initialize constants and arrays\n",
        "    bands, ysize, xsize = arr_2019.shape[0], arr_2019.shape[1], arr_2019.shape[2]\n",
        "    ypatches = int((ysize-size+stride)//stride)\n",
        "    xpatches = int((xsize-size+stride)//stride)\n",
        "    patches_2019 = np.zeros((xpatches*ypatches, bands, size, size))\n",
        "    patches_2020 = np.zeros((xpatches*ypatches, bands, size, size))\n",
        "    labels = np.zeros((xpatches*ypatches, 1))\n",
        "    nan_mask = np.ones(xpatches*ypatches, dtype=bool)\n",
        "    #read data\n",
        "    for i in range(0, ysize-size+1, stride):\n",
        "        for j in range(0, xsize-size+1, stride):\n",
        "            patches_2019[(i*xpatches+j)//stride] = arr_2019[:, i:i+size, j:j+size]\n",
        "            patches_2020[(i*xpatches+j)//stride] = arr_2020[:, i:i+size, j:j+size]\n",
        "            nan_mask[(i*xpatches+j)//stride] = not (np.any(np.isnan(arr_2019[:, i:i+size, j:j+size])) or \\\n",
        "                                                np.any(np.isnan(arr_2020[:, i:i+size, j:j+size])))\n",
        "\n",
        "    return patches_2019, patches_2020\n",
        "\n",
        "\n",
        "def create_set(tile, path=folder_path):\n",
        "    y = int(300*(tile//6))\n",
        "    x = int(300*(tile%6))\n",
        "    arr_2019 = get_array(path + f\"tiles/tile_2019_{x}_{y}.tif\")\n",
        "    arr_2020 = get_array(path + f\"tiles/tile_2020_{x}_{y}.tif\")\n",
        "    arr_deforestation = get_array(path + f\"tiles/deforestation_{x}_{y}.tif\")\n",
        "    return make_patches_test(arr_2019, arr_2020, arr_deforestation)\n",
        "\n",
        "past, current= create_set(0)\n",
        "pred_test = make_pred(make_dataloader(past, current))"
      ],
      "metadata": {
        "colab": {
          "base_uri": "https://localhost:8080/"
        },
        "id": "782xZ17OwPFp",
        "outputId": "e86a404d-5708-4bcb-f920-31fae2f3712e"
      },
      "execution_count": null,
      "outputs": [
        {
          "output_type": "stream",
          "name": "stderr",
          "text": [
            "/usr/local/lib/python3.7/dist-packages/torch/nn/modules/container.py:141: UserWarning: Implicit dimension choice for softmax has been deprecated. Change the call to include dim=X as an argument.\n",
            "  input = module(input)\n"
          ]
        }
      ]
    },
    {
      "cell_type": "code",
      "source": [
        "a = np.array([1.0, 2])\n",
        "a[0]= np.nan\n",
        "np.isnan(a.tolist()[0])"
      ],
      "metadata": {
        "colab": {
          "base_uri": "https://localhost:8080/"
        },
        "id": "DEVjdpAc03wH",
        "outputId": "8a24b995-d574-4344-da26-62d5c38167c6"
      },
      "execution_count": null,
      "outputs": [
        {
          "output_type": "execute_result",
          "data": {
            "text/plain": [
              "True"
            ]
          },
          "metadata": {},
          "execution_count": 40
        }
      ]
    },
    {
      "cell_type": "code",
      "source": [
        "def create_diff_image(pred, width, height):\n",
        "    xpatches = (width-15)//3 + 1\n",
        "    ypatches = (height-15)//3 + 1\n",
        "    xpadding = width - 3*xpatches\n",
        "    ypadding = height - 3*ypatches\n",
        "\n",
        "    # startx = (xpadding+1)//2\n",
        "    # starty = (ypadding+1)//2\n",
        "\n",
        "    arr = np.ones((height, width, 3), dtype=np.uint8) * 255\n",
        "\n",
        "    for i in range(ypatches):\n",
        "        for j in range(xpatches):\n",
        "            ti = starty + 3*i\n",
        "            tj = startx + 3*j\n",
        "            if np.isnan(pred[i*xpatches+j]):\n",
        "                arr[ti:ti+3, tj:tj+3, :] = 0\n",
        "            else: \n",
        "                arr[ti:ti+3, tj:tj+3, 1] = (1-pred[i*xpatches+j])*255\n",
        "                arr[ti:ti+3, tj:tj+3, 2] = (1-pred[i*xpatches+j])*255\n",
        "    \n",
        "    img = Image.fromarray(arr).resize((width, height))\n",
        "\n",
        "    return np.array(img)\n"
      ],
      "metadata": {
        "id": "kcbUnKH7tMZY"
      },
      "execution_count": null,
      "outputs": []
    },
    {
      "cell_type": "code",
      "source": [
        "def create_diff_image(pred, width, height):\n",
        "    xpatches = (width-15)//3 + 1\n",
        "    ypatches = (height-15)//3 + 1\n",
        "    xpadding = width - 3*xpatches\n",
        "    ypadding = height - 3*ypatches\n",
        "\n",
        "    # startx = (xpadding+1)//2\n",
        "    # starty = (ypadding+1)//2\n",
        "\n",
        "    arr = np.ones((3*ypatches, 3*xpatches, 3), dtype=np.uint8) * 255\n",
        "\n",
        "    for i in range(ypatches):\n",
        "        for j in range(xpatches):\n",
        "            ti = 3*i\n",
        "            tj = 3*j\n",
        "            if np.isnan(pred[i*xpatches+j]):\n",
        "                arr[ti:ti+3, tj:tj+3, :] = 0\n",
        "            else: \n",
        "                arr[ti:ti+3, tj:tj+3, 1] = (1-pred[i*xpatches+j])*255\n",
        "                arr[ti:ti+3, tj:tj+3, 2] = (1-pred[i*xpatches+j])*255\n",
        "    \n",
        "    img = Image.fromarray(arr).resize((width, height))\n",
        "\n",
        "    return np.array(img)\n"
      ],
      "metadata": {
        "id": "EFW9XYCcOl6_"
      },
      "execution_count": null,
      "outputs": []
    },
    {
      "cell_type": "code",
      "source": [
        "big_arr = np.zeros((1200, 1800, 3), dtype = np.uint8)\n",
        "for tile in range(24):\n",
        "    x = tile%6\n",
        "    y = tile//6\n",
        "    past, current = create_set(tile)\n",
        "    pred_test = make_pred(make_dataloader(past, current))\n",
        "    arr = create_diff_image(pred_test, 300, 300)\n",
        "    big_arr[y*300:(y+1)*300, x*300:(x+1)*300, :] = arr\n",
        "plt.imshow(Image.fromarray(big_arr))"
      ],
      "metadata": {
        "colab": {
          "base_uri": "https://localhost:8080/",
          "height": 341
        },
        "id": "dIRp1eQX6Hi5",
        "outputId": "4bd28968-6fd1-4bc4-9c42-2fa369853535"
      },
      "execution_count": null,
      "outputs": [
        {
          "output_type": "stream",
          "name": "stderr",
          "text": [
            "/usr/local/lib/python3.7/dist-packages/torch/nn/modules/container.py:141: UserWarning: Implicit dimension choice for softmax has been deprecated. Change the call to include dim=X as an argument.\n",
            "  input = module(input)\n"
          ]
        },
        {
          "output_type": "execute_result",
          "data": {
            "text/plain": [
              "<matplotlib.image.AxesImage at 0x7f3f93299b10>"
            ]
          },
          "metadata": {},
          "execution_count": 28
        },
        {
          "output_type": "display_data",
          "data": {
            "text/plain": [
              "<Figure size 432x288 with 1 Axes>"
            ],
            "image/png": "[encoded data removed]"
          },
          "metadata": {
            "needs_background": "light"
          }
        }
      ]
    },
    {
      "cell_type": "code",
      "source": [
        "Image.fromarray(big_arr).save(\"mehnat.jpg\")"
      ],
      "metadata": {
        "id": "tKFRqvTz54fw"
      },
      "execution_count": null,
      "outputs": []
    },
    {
      "cell_type": "code",
      "source": [
        "ds = gdal.Open('/content/deforestation_raster_2020.tif')\n",
        "img_array = np.zeros((3, ds.RasterYSize, ds.RasterXSize), dtype=np.uint8)\n",
        "\n",
        "img_array[:,:,:] = np.array(ds.GetRasterBand(1).ReadAsArray())/ (20000 if i < 7 else 1) \n",
        "# print(img_array.shape)\n",
        "img_array"
      ],
      "metadata": {
        "colab": {
          "base_uri": "https://localhost:8080/"
        },
        "id": "GBOWn09072vx",
        "outputId": "73faea60-c56c-406d-9a69-67552872a8d7"
      },
      "execution_count": null,
      "outputs": [
        {
          "output_type": "execute_result",
          "data": {
            "text/plain": [
              "array([[[0, 0, 0, ..., 0, 0, 0],\n",
              "        [0, 0, 0, ..., 0, 0, 0],\n",
              "        [0, 0, 0, ..., 0, 0, 0],\n",
              "        ...,\n",
              "        [0, 0, 0, ..., 0, 0, 0],\n",
              "        [0, 0, 0, ..., 0, 0, 0],\n",
              "        [0, 0, 0, ..., 0, 0, 0]],\n",
              "\n",
              "       [[0, 0, 0, ..., 0, 0, 0],\n",
              "        [0, 0, 0, ..., 0, 0, 0],\n",
              "        [0, 0, 0, ..., 0, 0, 0],\n",
              "        ...,\n",
              "        [0, 0, 0, ..., 0, 0, 0],\n",
              "        [0, 0, 0, ..., 0, 0, 0],\n",
              "        [0, 0, 0, ..., 0, 0, 0]],\n",
              "\n",
              "       [[0, 0, 0, ..., 0, 0, 0],\n",
              "        [0, 0, 0, ..., 0, 0, 0],\n",
              "        [0, 0, 0, ..., 0, 0, 0],\n",
              "        ...,\n",
              "        [0, 0, 0, ..., 0, 0, 0],\n",
              "        [0, 0, 0, ..., 0, 0, 0],\n",
              "        [0, 0, 0, ..., 0, 0, 0]]], dtype=uint8)"
            ]
          },
          "metadata": {},
          "execution_count": 40
        }
      ]
    },
    {
      "cell_type": "code",
      "source": [
        "img_array = img_array[:, :1200, :1800]"
      ],
      "metadata": {
        "id": "kAq6rwoo81zz"
      },
      "execution_count": null,
      "outputs": []
    },
    {
      "cell_type": "code",
      "source": [
        "img_array.shape"
      ],
      "metadata": {
        "colab": {
          "base_uri": "https://localhost:8080/"
        },
        "id": "Ta1Z_qQN-1yG",
        "outputId": "507f7e25-76e8-4380-ced2-81b7bdc86aa4"
      },
      "execution_count": null,
      "outputs": [
        {
          "output_type": "execute_result",
          "data": {
            "text/plain": [
              "(3, 1200, 1800)"
            ]
          },
          "metadata": {},
          "execution_count": 49
        }
      ]
    },
    {
      "cell_type": "code",
      "source": [
        "img_array[0,:,:] = 1\n",
        "img_array[1,:,:] = 1-img_array[1, :, :]\n",
        "img_array[2,:,:] = 1-img_array[2, :, :]"
      ],
      "metadata": {
        "id": "oM61K87S-wpe"
      },
      "execution_count": null,
      "outputs": []
    },
    {
      "cell_type": "code",
      "source": [
        "img = Image.fromarray(np.rollaxis(img_array, 0, 3)*255)\n",
        "plt.imshow(img)"
      ],
      "metadata": {
        "colab": {
          "base_uri": "https://localhost:8080/",
          "height": 286
        },
        "id": "-gpWUdaj9vbo",
        "outputId": "c3ed9426-744b-4d7d-c798-a4696e9c59e3"
      },
      "execution_count": null,
      "outputs": [
        {
          "output_type": "execute_result",
          "data": {
            "text/plain": [
              "<matplotlib.image.AxesImage at 0x7f182fa73350>"
            ]
          },
          "metadata": {},
          "execution_count": 48
        },
        {
          "output_type": "display_data",
          "data": {
            "text/plain": [
              "<Figure size 432x288 with 1 Axes>"
            ],
            "image/png": "[encoded data removed]"
          },
          "metadata": {
            "needs_background": "light"
          }
        }
      ]
    },
    {
      "cell_type": "code",
      "source": [
        "img.save('og.jpg')"
      ],
      "metadata": {
        "id": "1w381LwA-iqR"
      },
      "execution_count": null,
      "outputs": []
    },
    {
      "cell_type": "code",
      "source": [
        ""
      ],
      "metadata": {
        "id": "yz7U6AGs-9Fw"
      },
      "execution_count": null,
      "outputs": []
    }
  ],
  "metadata": {
    "colab": {
      "collapsed_sections": [],
      "name": "014_siameseNetwork.ipynb",
      "provenance": []
    },
    "kernelspec": {
      "display_name": "Python 3",
      "name": "python3"
    },
    "language_info": {
      "name": "python"
    },
    "accelerator": "GPU"
  },
  "nbformat": 4,
  "nbformat_minor": 0
}
